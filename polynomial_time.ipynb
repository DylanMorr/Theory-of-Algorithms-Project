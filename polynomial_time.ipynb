{
 "cells": [
  {
   "cell_type": "markdown",
   "source": [
    "# The Polynomial Time Complexity Class (P)\n",
    "\n",
    "***"
   ],
   "metadata": {
    "collapsed": false
   },
   "outputs": [
    {
     "ename": "SyntaxError",
     "evalue": "invalid syntax (Temp/ipykernel_8724/1629750511.py, line 3)",
     "output_type": "error",
     "traceback": [
      "\u001B[1;36m  File \u001B[1;32m\"C:\\Users\\dylan\\AppData\\Local\\Temp/ipykernel_8724/1629750511.py\"\u001B[1;36m, line \u001B[1;32m3\u001B[0m\n\u001B[1;33m    ***\u001B[0m\n\u001B[1;37m    ^\u001B[0m\n\u001B[1;31mSyntaxError\u001B[0m\u001B[1;31m:\u001B[0m invalid syntax\n"
     ]
    }
   ],
   "execution_count": 1
  },
  {
   "cell_type": "markdown",
   "source": [
    "## Introduction"
   ],
   "metadata": {
    "collapsed": false
   }
  },
  {
   "cell_type": "markdown",
   "source": [
    "In this notebook I will be exploring the Polynomial Time Complexity Class (P). Complexity classes allow scientists to solve problems and work how many resources are required to get the solution. All these problems are broken up into different classes depending on their results, in this notebook we will look further into the class P. The class P is used for solving decision problems, these are problems that require a yes or no answer. The problems within class P are said to be 'efficiently solvable', there are exceptions to this statement both in and out of the P class, but for the majority of problems in P this is the case. [1][2]"
   ],
   "metadata": {
    "collapsed": false
   }
  },
  {
   "cell_type": "markdown",
   "source": [
    "Now that I've introduced the P class I will start looking deeper into what it is all about, here are the titles of everything I will be discussing in this notebook:\n",
    "- Definition\n",
    "- Notable Projects\n",
    "- Polynomial Time Algorithms\n",
    "- Reductions\n",
    "- P versus NP Problem"
   ],
   "metadata": {
    "collapsed": false
   }
  },
  {
   "cell_type": "markdown",
   "source": [
    "## Definition"
   ],
   "metadata": {
    "collapsed": false
   }
  },
  {
   "cell_type": "markdown",
   "source": [
    "In this section I will be defining what the class P is by looking at an informal and formal characterization."
   ],
   "metadata": {
    "collapsed": false
   }
  },
  {
   "cell_type": "markdown",
   "source": [
    "#### Informal Definition\n",
    "To understand the formal definition I will first add the informal one:\n",
    "- Class P consists of decision problems that can be solved using an algorithm in a certain amount of steps and set to a fixed polynomial using the input length.\n",
    "- To look further at how it works we have to use a deterministic Turing Machine.\n",
    "- We use Turing Machines as they are good at simulating efficient models, by squaring or cubing the computational time.\n",
    "- With the class P being robust and using the same definitions as larger computer models we can easily define class P formally in terms of the Turing Machine. [3]"
   ],
   "metadata": {
    "collapsed": false
   }
  },
  {
   "cell_type": "markdown",
   "source": [
    "#### Formal Turing Machine Definition\n",
    "All the elements in class P are languages. If we say Σ is a finite alphabet with at least two elements and set Σ∗ to the set of finite strings over Σ. The language that is over  Σ is a subset L of Σ∗.\n",
    "So then we'll say each Turing Machine M has a related input alphabet Σ. So for each string w in Σ∗ we say a computation related to M with input w. We then say M accepts w if the computation ends in the accepted state. It can also fail if M fails to accept w by the computation ending, or if it goes into a rejected state, or the computation failing to terminate. The language that can be accepted in M, denoted L(M),  with associated alphabet Σ can be defined as follows [3]:\n",
    "\n",
    "L(M) = {w ∈ Σ ∗ | M accepts w}.\n",
    "\n",
    "Denoted by tM(w) is the number of steps in the computation of M on input w. If the computation never stops, then tM(w) = ∞. For n ∈ N it is denoted by TM(n) this is the worst run time case for M, defined as follows:\n",
    "\n",
    "TM(n) = max{tM(w) | w ∈ Σ n },\n",
    "\n",
    "where Σn is the set of all strings over Σ of length n. M runs in polynomial time if there exists k for all n, TM(n) ≤ n k + k.\n",
    "Now we define the class P as follows:\n",
    "\n",
    "P = {L | L = L(M) for some Turing machine M that runs in polynomial time}. [3]"
   ],
   "metadata": {
    "collapsed": false
   }
  },
  {
   "cell_type": "markdown",
   "source": [
    "## Notable Projects"
   ],
   "metadata": {
    "collapsed": false
   }
  },
  {
   "cell_type": "markdown",
   "source": [
    "In this section I will be looking at two of the most popular projects associated with the class P, these are the Hungarian Maximum Matching problem and AKS Primality Test. I'll do a brief overview of what they are and in the following section Polynomial Time Algorithms I will be testing the algorithms in python to see how they perform."
   ],
   "metadata": {
    "collapsed": false
   }
  },
  {
   "cell_type": "markdown",
   "source": [
    "#### Hungarian Maximum Matching\n",
    "- The Hungarian matching algorithm, also known as the Kuhn-Munkres algorithm, is an algorithm used to find maximum-weight matchings in bipartite graphs.\n",
    "- It is a O(∣V∣3) algorithm.\n",
    "- These graphs can easily be represented using an adjacency matrix where the weights of the edges are the entries.\n",
    "- There following diagram shows the adjacency matrix representation [4]:\n",
    "\n",
    "<img src=\"img/hung-match.PNG\" align=\"center\" width=\"300\"/>\n",
    "\n",
    "- The Hungarian algorithm operates on the key idea that \"if a number is added or subtracted from all of the entries of any one row or column of a cost matrix, then an optimal assignment for the resulting cost matrix is also an optimal assignment for the original cost matrix\"[4].\n",
    "- The method works as follows:\n",
    "\t1. Subtract the smallest entry in each row from all the other entries in the row. Making the smallest entry in the row now equal to 0.\n",
    "\t2. Subtract the smallest entry in each column from all the other entries in the column. Making the smallest entry in the column now equal to 0.\n",
    "\t3. Draw lines through the row and columns that have the 0 entries such that the fewest lines possible are drawn.\n",
    "\t4. If there are n lines drawn, an optimal assignment of zeros is possible and the algorithm is finished. If the number of lines is less than n, then the optimal number of zeros is not yet reached. Go to the next step.\n",
    "\t5. Find the smallest entry not covered by any line. Subtract this entry from each row that isn’t crossed out, and then add it to each column that is crossed out. Then, go back to Step 3. [4]\n",
    "\n",
    "#### Example Solution:\n",
    "You are having a party and you want a musician to perform, a chef to prepare food, and a cleaning service to help clean up after the party. There are three companies that provide each of these three services, but one company can only provide one service at a time (i.e. Company A cannot provide both the cleaners and the chef). You are deciding which company you should purchase each service from in order to minimize the cost of the party. This is an assignment problem and can be graphed out of the following information [4]:\n",
    "\n",
    "<img src=\"img/table.PNG\" align=\"center\" width=\"600\"/>\n",
    "\n",
    "Our initial matrix is the following:\n",
    "\n",
    "<img src=\"img/init-mat.PNG\" align=\"center\" width=\"200\"/>\n",
    "\n",
    "Now, subtract the smallest value in each row from the other values in the row:\n",
    "\n",
    "<img src=\"img/img2.PNG\" align=\"center\" width=\"200\"/>\n",
    "\n",
    "Now, subtract the smallest value in each column from all other values in the column:\n",
    "\n",
    "<img src=\"img/img3.PNG\" align=\"center\" width=\"200\"/>\n",
    "\n",
    "Draw lines through the row and columns that have the 0 entries so that the fewest possible lines are drawn:\n",
    "\n",
    "<img src=\"img/img4.PNG\" align=\"center\" width=\"200\"/>\n",
    "\n",
    "There are 2 lines drawn, and 2 is less than 3, so there is not yet the optimal number of zeros.\n",
    "Find the smallest entry not covered by any line. Subtract this entry from each row that isn’t crossed out, and then add it to each column that is crossed out. Then, go back to Step 3.\n",
    "2 is the smallest entry.\n",
    "First, subtract from the uncovered rows:\n",
    "\n",
    "<img src=\"img/img5.PNG\" align=\"center\" width=\"200\"/>\n",
    "\n",
    "Now add to the covered columns:\n",
    "\n",
    "<img src=\"img/img 6.PNG\" align=\"center\" width=\"200\"/>\n",
    "\n",
    "Now go back to step 3, drawing lines through the rows and columns that have 0 entries:\n",
    "\n",
    "<img src=\"img/img7.PNG\" align=\"center\" width=\"200\"/>\n",
    "\n",
    "There are 3 lines (which is n), so we are done. The assignment will be where the 0's are in the matrix such that only one 0 per row and column is part of the assignment.\n",
    "\n",
    "<img src=\"img/img8.PNG\" align=\"center\" width=\"200\"/>\n",
    "\n",
    "Replace the original values:\n",
    "\n",
    "<img src=\"img/img 9.PNG\" align=\"center\" width=\"200\"/>\n",
    "\n",
    "The Hungarian algorithm tells us that it is cheapest to go with the musician from company C, the chef from company B, and the cleaners from company A.\n",
    "Verify this using brute force.\n",
    "- 108 + 135 + 250 = 493\n",
    "- 108 + 148 + 175 = 431\n",
    "- 150 + 125 + 250 = 525\n",
    "- 150 + 148 + 150 = 448\n",
    "- 122 + 125 + 175 = 422\n",
    "- 122 + 135 + 150 = 407.\n",
    "\n",
    "We see that 407 is the lowest price and matches the assignment the Hungarian algorithm determined as the cheapest options. [4]"
   ],
   "metadata": {
    "collapsed": false
   }
  },
  {
   "cell_type": "markdown",
   "source": [
    "#### AKS Primality Test - Prime Test\n",
    "- The next problem is  checking if a number is prime or not.\n",
    "- One of the most popular tests for this is the AKS(Agrawal–Kayal–Saxena) Primality Test.\n",
    "- The AKS algorithm is a deterministic primality proving algorithm and was the first one to determine in polynomial time if a number is prime or composite.\n",
    "- The algorithm is 'simultaneously general, polynomial-time, deterministic, and unconditionally correct'.\n",
    "- The algorithm looks like this [5]:\n",
    "\n",
    "Input: integer n > 1.\n",
    "1. Check if n is a perfect power: if n = ab for integers a > 1 and b > 1, output composite.\n",
    "2. Find the smallest r such that ordr(n) > (log2 n)2. (if r and n are not coprime, then skip this r)\n",
    "3. For all 2 ≤ a ≤ min (r, n−1), check that a does not divide n: If a|n for some 2 ≤ a ≤ min (r, n−1), output composite.\n",
    "4. If n ≤ r, output prime.\n",
    "5. For a = 1 to  do\n",
    "   \tif (X+a)n≠ Xn+a (mod Xr − 1,n), output composite;\n",
    "6. Output prime. [5]\n",
    "\n",
    "Explanation of Algorithm\n",
    "- In step 1 we check if n is a perfect power of some integer a > 1 and the exponent b > 1. If this is the case then we output composite as n can be factored as a product of at least two factors greater than 1.\n",
    "- In step 2 we find the smallest positive integer r so that the multiplication order of n modulo r (ordr(n)) is greater than (log2 n)2. This step is skipped if r and n are not coprime.\n",
    "- In step 3 we check for each integer a between 2 and the minimum value of r and n-1, check if a divides into n, if it does output composite because a is a nontrivial factor of n.\n",
    "- In step 4 check if n <= r and output prime as all potential prime factors of n are already found in step 3.\n",
    "- In step 5 check for each integer a between 1 and X, where X is a parameter than needs to be set. Check if the equation works for some integer a, if it doesn't output composite because n is a composite number.\n",
    "- In step 6 we output prime if none of the previous steps catch a composite number, this means n is prime. [5]"
   ],
   "metadata": {
    "collapsed": false
   }
  },
  {
   "cell_type": "markdown",
   "source": [
    "## Polynomial Time Algorithms"
   ],
   "metadata": {
    "collapsed": false
   }
  },
  {
   "cell_type": "markdown",
   "source": [
    "## Reductions"
   ],
   "metadata": {
    "collapsed": false
   }
  },
  {
   "cell_type": "markdown",
   "source": [
    "## P versus NP Problem"
   ],
   "metadata": {
    "collapsed": false
   }
  },
  {
   "cell_type": "markdown",
   "source": [
    "## References"
   ],
   "metadata": {
    "collapsed": false
   }
  },
  {
   "cell_type": "markdown",
   "source": [
    "[1] \"Complexity Classes,\" Brilliant.org, [Online]. Available: https://brilliant.org/wiki/complexity-classes/\n",
    "[2] \"P (complexity),\" Wikipedia, [Online]. Available: https://en.wikipedia.org/wiki/P_(complexity)\n",
    "[3] S. Cook, \"The P vs NP Problem,\" Clay Mathematics Institute, [Online]. Available: https://www.claymath.org/sites/default/files/pvsnp.pdf\n",
    "[4] \"Hungarian Matching,\" Brilliant.org, [Online]. Available: https://brilliant.org/wiki/hungarian-matching/\n",
    "[5] \"AKS primality test,\" Wikipedia, [Online]. Available: https://en.wikipedia.org/wiki/AKS_primality_test"
   ],
   "metadata": {
    "collapsed": false
   }
  },
  {
   "cell_type": "markdown",
   "source": [
    "***\n",
    "\n",
    "## End of Notebook"
   ],
   "metadata": {
    "collapsed": false
   }
  }
 ],
 "metadata": {
  "kernelspec": {
   "display_name": "Python 3",
   "language": "python",
   "name": "python3"
  },
  "language_info": {
   "codemirror_mode": {
    "name": "ipython",
    "version": 2
   },
   "file_extension": ".py",
   "mimetype": "text/x-python",
   "name": "python",
   "nbconvert_exporter": "python",
   "pygments_lexer": "ipython2",
   "version": "2.7.6"
  }
 },
 "nbformat": 4,
 "nbformat_minor": 0
}
