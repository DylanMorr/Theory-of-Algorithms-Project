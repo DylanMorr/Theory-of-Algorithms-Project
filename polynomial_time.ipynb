{
 "cells": [
  {
   "cell_type": "markdown",
   "source": [
    "# The Polynomial Time Complexity Class (P)\n",
    "\n",
    "***"
   ],
   "metadata": {
    "collapsed": false
   },
   "outputs": [
    {
     "ename": "SyntaxError",
     "evalue": "invalid syntax (Temp/ipykernel_8724/1629750511.py, line 3)",
     "output_type": "error",
     "traceback": [
      "\u001B[1;36m  File \u001B[1;32m\"C:\\Users\\dylan\\AppData\\Local\\Temp/ipykernel_8724/1629750511.py\"\u001B[1;36m, line \u001B[1;32m3\u001B[0m\n\u001B[1;33m    ***\u001B[0m\n\u001B[1;37m    ^\u001B[0m\n\u001B[1;31mSyntaxError\u001B[0m\u001B[1;31m:\u001B[0m invalid syntax\n"
     ]
    }
   ],
   "execution_count": 1
  },
  {
   "cell_type": "markdown",
   "source": [
    "## Introduction"
   ],
   "metadata": {
    "collapsed": false
   }
  },
  {
   "cell_type": "markdown",
   "source": [
    "In this notebook I will be exploring the Polynomial Time Complexity Class (P). Complexity classes allow scientists to solve problems and work how much resources are required to get the solution. All these problems are broken up into different classes depending on their results, in this notebook we will look further into the class P. The class P is used for solving decision problems, these are problems that require a yes or no answer. The problems within class P are said to be 'efficiently solvable', this are exceptions to this statement both in and out of the P class, but for the majority of problems in P this is the case. [1][2]"
   ],
   "metadata": {
    "collapsed": false
   }
  },
  {
   "cell_type": "markdown",
   "source": [
    "Now that I've introduced the P class I will start looking deeper into what it is all about, here are the titles of everything I will be discussing in this notebook:\n",
    "- Definition\n",
    "- Notable Projects\n",
    "- Polynomial Time Algorithms\n",
    "- Reductions\n",
    "- P versus NP Problem"
   ],
   "metadata": {
    "collapsed": false
   }
  },
  {
   "cell_type": "markdown",
   "source": [
    "## Definition"
   ],
   "metadata": {
    "collapsed": false
   }
  },
  {
   "cell_type": "markdown",
   "source": [
    "In this section I will be defining what the class P is by looking at an informal and formal characterization."
   ],
   "metadata": {
    "collapsed": false
   }
  },
  {
   "cell_type": "markdown",
   "source": [
    "#### Informal Definition\n",
    "To understand the formal definition I will first add the informal one:\n",
    "- Class P consists of decision problems that can be solved using an algorithm in a certain amount of steps and set to a fixed polynomial using the input length.\n",
    "- To look further at how it works we have to use a deterministic Turing Machine.\n",
    "- We use Turing Machines as they are good at simulating efficient models, by squaring or cubing the computational time.\n",
    "- With the class P being robust and using the same definitions as larger computer models we can easily define class P formally in terms of the Turing Machine. [3]"
   ],
   "metadata": {
    "collapsed": false
   }
  },
  {
   "cell_type": "markdown",
   "source": [
    "#### Formal Turing Machine Definition\n",
    "All the elements in class P are languages. If we say Σ is an finite alphabet with at least two elements and set Σ∗ to the set of finite strings over Σ. The the language that is over  Σ is a subset L of Σ∗.\n",
    "So then we'll say each Turing Machine M has a related input alphabet Σ. So for each string w in Σ∗ we say a computation related to M with input w. We then say M accepts w if the computation ends in the accepted state. It can also fail if M fails to accept w by the computation ending, it going into a rejected state, or the computation failing to terminate. The language that can be accepted in M, denoted L(M),  with associated alphabet Σ can be defined as follows [3]:\n",
    "\n",
    "L(M) = {w ∈ Σ ∗ | M accepts w}.\n",
    "\n",
    "Denoted by tM(w) is the number of steps in the computation of M on input w. If the computation never stops, then tM(w) = ∞. For n ∈ N it is denoted by TM(n) this is the worst run time case for M, defined as follows:\n",
    "\n",
    "TM(n) = max{tM(w) | w ∈ Σ n },\n",
    "\n",
    "where Σn is the set of all strings over Σ of length n. M runs in polynomial time if there exists k for all n, TM(n) ≤ n k + k.\n",
    "Now we define the class P as follows:\n",
    "\n",
    "P = {L | L = L(M) for some Turing machine M that runs in polynomial time}. [3]"
   ],
   "metadata": {
    "collapsed": false
   }
  },
  {
   "cell_type": "markdown",
   "source": [
    "## Notable Projects"
   ],
   "metadata": {
    "collapsed": false
   }
  },
  {
   "cell_type": "markdown",
   "source": [
    "## Polynomial Time Algorithms"
   ],
   "metadata": {
    "collapsed": false
   }
  },
  {
   "cell_type": "markdown",
   "source": [
    "## Reductions"
   ],
   "metadata": {
    "collapsed": false
   }
  },
  {
   "cell_type": "markdown",
   "source": [
    "## P versus NP Problem"
   ],
   "metadata": {
    "collapsed": false
   }
  },
  {
   "cell_type": "markdown",
   "source": [
    "## References"
   ],
   "metadata": {
    "collapsed": false
   }
  },
  {
   "cell_type": "markdown",
   "source": [
    "[1] \"Complexity Classes,\" Brilliant.org, [Online]. Available: https://brilliant.org/wiki/complexity-classes/\n",
    "[2] \"P (complexity),\" Wikipedia, [Online]. Available: https://en.wikipedia.org/wiki/P_(complexity)\n",
    "[3] S. Cook, \"The P vs NP Problem,\" Clay Mathematics Institute, [Online]. Available: https://www.claymath.org/sites/default/files/pvsnp.pdf"
   ],
   "metadata": {
    "collapsed": false
   }
  },
  {
   "cell_type": "markdown",
   "source": [
    "***\n",
    "\n",
    "## End of Notebook"
   ],
   "metadata": {
    "collapsed": false
   }
  }
 ],
 "metadata": {
  "kernelspec": {
   "display_name": "Python 3",
   "language": "python",
   "name": "python3"
  },
  "language_info": {
   "codemirror_mode": {
    "name": "ipython",
    "version": 2
   },
   "file_extension": ".py",
   "mimetype": "text/x-python",
   "name": "python",
   "nbconvert_exporter": "python",
   "pygments_lexer": "ipython2",
   "version": "2.7.6"
  }
 },
 "nbformat": 4,
 "nbformat_minor": 0
}
