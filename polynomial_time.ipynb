{
 "cells": [
  {
   "cell_type": "markdown",
   "source": [
    "# Polynomial Time Complexity Class (P)"
   ],
   "metadata": {
    "collapsed": false
   }
  },
  {
   "cell_type": "markdown",
   "source": [
    "## Introduction"
   ],
   "metadata": {
    "collapsed": false
   }
  },
  {
   "cell_type": "markdown",
   "source": [
    "In this notebook I will be exploring the Polynomial Time Complexity Class (P). Complexity classes allow scientists to solve problems and work how many resources are required to get the solution. All these problems are broken up into different classes depending on their results, in this notebook we will look further into the class P. The class P is used for solving decision problems, these are problems that require a yes or no answer. The problems within class P are said to be 'efficiently solvable', there are exceptions to this statement both in and out of the P class, but for the majority of problems in P this is the case. [1][2]"
   ],
   "metadata": {
    "collapsed": false
   }
  },
  {
   "cell_type": "markdown",
   "source": [
    "Now that I've introduced the P class I will start looking deeper into what it is all about, here are the titles of everything I will be discussing in this notebook:\n",
    "- Definition\n",
    "- Notable Projects\n",
    "- Polynomial Time Algorithms\n",
    "- Reductions\n",
    "- P versus NP Problem"
   ],
   "metadata": {
    "collapsed": false
   }
  },
  {
   "cell_type": "markdown",
   "source": [
    "## Definition"
   ],
   "metadata": {
    "collapsed": false
   }
  },
  {
   "cell_type": "markdown",
   "source": [
    "In this section I will be defining what the class P is by looking at an informal and formal characterization."
   ],
   "metadata": {
    "collapsed": false
   }
  },
  {
   "cell_type": "markdown",
   "source": [
    "#### Informal Definition\n",
    "To understand the formal definition I will first add the informal one:\n",
    "- Class P consists of decision problems that can be solved using an algorithm in a certain amount of steps and set to a fixed polynomial using the input length.\n",
    "- To look further at how it works we have to use a deterministic Turing Machine.\n",
    "- We use Turing Machines as they are good at simulating efficient models, by squaring or cubing the computational time.\n",
    "- With the class P being robust and using the same definitions as larger computer models we can easily define class P formally in terms of the Turing Machine. [3]"
   ],
   "metadata": {
    "collapsed": false
   }
  },
  {
   "cell_type": "markdown",
   "source": [
    "#### Formal Turing Machine Definition\n",
    "All the elements in class P are languages. If we say Σ is a finite alphabet with at least two elements and set Σ∗ to the set of finite strings over Σ. The language that is over  Σ is a subset L of Σ∗.\n",
    "So then we'll say each Turing Machine M has a related input alphabet Σ. So for each string w in Σ∗ we say a computation related to M with input w. We then say M accepts w if the computation ends in the accepted state. It can also fail if M fails to accept w by the computation ending, or if it goes into a rejected state, or the computation failing to terminate. The language that can be accepted in M, denoted L(M),  with associated alphabet Σ can be defined as follows [3]:\n",
    "\n",
    "L(M) = {w ∈ Σ ∗ | M accepts w}.\n",
    "\n",
    "Denoted by tM(w) is the number of steps in the computation of M on input w. If the computation never stops, then tM(w) = ∞. For n ∈ N it is denoted by TM(n) this is the worst run time case for M, defined as follows:\n",
    "\n",
    "TM(n) = max{tM(w) | w ∈ Σ n },\n",
    "\n",
    "where Σn is the set of all strings over Σ of length n. M runs in polynomial time if there exists k for all n, TM(n) ≤ n k + k.\n",
    "Now we define the class P as follows:\n",
    "\n",
    "P = {L | L = L(M) for some Turing machine M that runs in polynomial time}. [3]"
   ],
   "metadata": {
    "collapsed": false
   }
  },
  {
   "cell_type": "markdown",
   "source": [
    "## Notable Projects"
   ],
   "metadata": {
    "collapsed": false
   }
  },
  {
   "cell_type": "markdown",
   "source": [
    "In this section I will be looking at two of the most popular projects associated with the class P, these are the Hungarian Maximum Matching problem and AKS Primality Test. I'll do a brief overview of what they are and in the following section Polynomial Time Algorithms I will be testing the algorithms in python to see how they perform."
   ],
   "metadata": {
    "collapsed": false
   }
  },
  {
   "cell_type": "markdown",
   "source": [
    "#### Hungarian Maximum Matching\n",
    "- The Hungarian matching algorithm, also known as the Kuhn-Munkres algorithm, is an algorithm used to find maximum-weight matchings in bipartite graphs.\n",
    "- It is a O(∣V∣3) algorithm.\n",
    "- These graphs can easily be represented using an adjacency matrix where the weights of the edges are the entries.\n",
    "- There following diagram shows the adjacency matrix representation [4]:\n",
    "\n",
    "<img src=\"img/hung-match.png\" align=\"center\" width=\"300\"/>\n",
    "\n",
    "- The Hungarian algorithm operates on the key idea that \"if a number is added or subtracted from all of the entries of any one row or column of a cost matrix, then an optimal assignment for the resulting cost matrix is also an optimal assignment for the original cost matrix\"[4].\n",
    "- The method works as follows:\n",
    "\t1. Subtract the smallest entry in each row from all the other entries in the row. Making the smallest entry in the row now equal to 0.\n",
    "\t2. Subtract the smallest entry in each column from all the other entries in the column. Making the smallest entry in the column now equal to 0.\n",
    "\t3. Draw lines through the row and columns that have the 0 entries such that the fewest lines possible are drawn.\n",
    "\t4. If there are n lines drawn, an optimal assignment of zeros is possible and the algorithm is finished. If the number of lines is less than n, then the optimal number of zeros is not yet reached. Go to the next step.\n",
    "\t5. Find the smallest entry not covered by any line. Subtract this entry from each row that isn’t crossed out, and then add it to each column that is crossed out. Then, go back to Step 3. [4]\n",
    "\n",
    "#### Example Solution:\n",
    "You are having a party and you want a musician to perform, a chef to prepare food, and a cleaning service to help clean up after the party. There are three companies that provide each of these three services, but one company can only provide one service at a time (i.e. Company A cannot provide both the cleaners and the chef). You are deciding which company you should purchase each service from in order to minimize the cost of the party. This is an assignment problem and can be graphed out of the following information [4]:\n",
    "\n",
    "<img src=\"img/table.PNG\" align=\"center\" width=\"600\"/>\n",
    "\n",
    "Our initial matrix is the following:\n",
    "\n",
    "<img src=\"img/init-mat.png\" align=\"center\" width=\"200\"/>\n",
    "\n",
    "Now, subtract the smallest value in each row from the other values in the row:\n",
    "\n",
    "<img src=\"img/img2.png\" align=\"center\" width=\"200\"/>\n",
    "\n",
    "Now, subtract the smallest value in each column from all other values in the column:\n",
    "\n",
    "<img src=\"img/img3.png\" align=\"center\" width=\"200\"/>\n",
    "\n",
    "Draw lines through the row and columns that have the 0 entries so that the fewest possible lines are drawn:\n",
    "\n",
    "<img src=\"img/img4.png\" align=\"center\" width=\"200\"/>\n",
    "\n",
    "There are 2 lines drawn, and 2 is less than 3, so there is not yet the optimal number of zeros.\n",
    "Find the smallest entry not covered by any line. Subtract this entry from each row that isn’t crossed out, and then add it to each column that is crossed out. Then, go back to Step 3.\n",
    "2 is the smallest entry.\n",
    "First, subtract from the uncovered rows:\n",
    "\n",
    "<img src=\"img/img5.png\" align=\"center\" width=\"200\"/>\n",
    "\n",
    "Now add to the covered columns:\n",
    "\n",
    "<img src=\"img/img 6.png\" align=\"center\" width=\"200\"/>\n",
    "\n",
    "Now go back to step 3, drawing lines through the rows and columns that have 0 entries:\n",
    "\n",
    "<img src=\"img/img7.png\" align=\"center\" width=\"200\"/>\n",
    "\n",
    "There are 3 lines (which is n), so we are done. The assignment will be where the 0's are in the matrix such that only one 0 per row and column is part of the assignment.\n",
    "\n",
    "<img src=\"img/img8.png\" align=\"center\" width=\"200\"/>\n",
    "\n",
    "Replace the original values:\n",
    "\n",
    "<img src=\"img/img 9.png\" align=\"center\" width=\"200\"/>\n",
    "\n",
    "The Hungarian algorithm tells us that it is cheapest to go with the musician from company C, the chef from company B, and the cleaners from company A.\n",
    "Verify this using brute force.\n",
    "- 108 + 135 + 250 = 493\n",
    "- 108 + 148 + 175 = 431\n",
    "- 150 + 125 + 250 = 525\n",
    "- 150 + 148 + 150 = 448\n",
    "- 122 + 125 + 175 = 422\n",
    "- 122 + 135 + 150 = 407.\n",
    "\n",
    "We see that 407 is the lowest price and matches the assignment the Hungarian algorithm determined as the cheapest options. [4]"
   ],
   "metadata": {
    "collapsed": false
   }
  },
  {
   "cell_type": "markdown",
   "source": [
    "#### AKS Primality Test - Prime Test\n",
    "- The next problem is  checking if a number is prime or not.\n",
    "- One of the most popular tests for this is the AKS(Agrawal–Kayal–Saxena) Primality Test.\n",
    "- The AKS algorithm is a deterministic primality proving algorithm and was the first one to determine in polynomial time if a number is prime or composite.\n",
    "- The algorithm is 'simultaneously general, polynomial-time, deterministic, and unconditionally correct'.\n",
    "- The algorithm looks like this [5]:\n",
    "\n",
    "Input: integer n > 1.\n",
    "1. Check if n is a perfect power: if n = ab for integers a > 1 and b > 1, output composite.\n",
    "2. Find the smallest r such that ordr(n) > (log2 n)2. (if r and n are not coprime, then skip this r)\n",
    "3. For all 2 ≤ a ≤ min (r, n−1), check that a does not divide n: If a|n for some 2 ≤ a ≤ min (r, n−1), output composite.\n",
    "4. If n ≤ r, output prime.\n",
    "5. For a = 1 to  do\n",
    "   \tif (X+a)n≠ Xn+a (mod Xr − 1,n), output composite;\n",
    "6. Output prime. [5]\n",
    "\n",
    "Explanation of Algorithm\n",
    "- In step 1 we check if n is a perfect power of some integer a > 1 and the exponent b > 1. If this is the case then we output composite as n can be factored as a product of at least two factors greater than 1.\n",
    "- In step 2 we find the smallest positive integer r so that the multiplication order of n modulo r (ordr(n)) is greater than (log2 n)2. This step is skipped if r and n are not coprime.\n",
    "- In step 3 we check for each integer a between 2 and the minimum value of r and n-1, check if a divides into n, if it does output composite because a is a nontrivial factor of n.\n",
    "- In step 4 check if n <= r and output prime as all potential prime factors of n are already found in step 3.\n",
    "- In step 5 check for each integer a between 1 and X, where X is a parameter than needs to be set. Check if the equation works for some integer a, if it doesn't output composite because n is a composite number.\n",
    "- In step 6 we output prime if none of the previous steps catch a composite number, this means n is prime. [5]"
   ],
   "metadata": {
    "collapsed": false
   }
  },
  {
   "cell_type": "markdown",
   "source": [
    "## Polynomial Time Algorithms"
   ],
   "metadata": {
    "collapsed": false
   }
  },
  {
   "cell_type": "markdown",
   "source": [
    "#### Hungarian Algorithm Implementation in Python [6]"
   ],
   "metadata": {
    "collapsed": false
   }
  },
  {
   "cell_type": "markdown",
   "source": [
    "In this example I will show you how to use the Hungarian algorithm to solve a linear assignment problem and find the minimum number of combinations in the matrix. This Hungarian algorithm can also be used to find the maximum combination."
   ],
   "metadata": {
    "collapsed": false
   }
  },
  {
   "cell_type": "code",
   "execution_count": 37,
   "outputs": [],
   "source": [
    "import numpy as np"
   ],
   "metadata": {
    "collapsed": false
   }
  },
  {
   "cell_type": "code",
   "execution_count": 38,
   "outputs": [],
   "source": [
    "def min_zero_row(zero_mat, mark_zero):\n",
    "    # Initialize the minimum row with a high value of 99999 and -1 index.\n",
    "    min_row = [99999, -1]\n",
    "\n",
    "    # Iterate over all rows in the matrix.\n",
    "    for row in range(zero_mat.shape[0]):\n",
    "        # Check if the current row contains at least one True value and has fewer True values than the current minimum row.\n",
    "        if 0 < np.sum(zero_mat[row] == True) < min_row[0]:\n",
    "            # Update the minimum row to the current row and its number of True values.\n",
    "            min_row = [np.sum(zero_mat[row] == True), row]\n",
    "\n",
    "    # Get the index of the first occurrence of True in the minimum row.\n",
    "    index = np.where(zero_mat[min_row[1]] == True)[0][0]\n",
    "    # Append the row and column to the list mark_zero.\n",
    "    mark_zero.append((min_row[1], index))\n",
    "    # Set all values in the minimum row and column to False.\n",
    "    zero_mat[min_row[1], :] = False\n",
    "    zero_mat[:, index] = False"
   ],
   "metadata": {
    "collapsed": false
   }
  },
  {
   "cell_type": "code",
   "execution_count": 39,
   "outputs": [],
   "source": [
    "def mark_matrix(mat):\n",
    "    #Transform the matrix to boolean matrix(0 = True, others = False)\n",
    "    current_mat = mat\n",
    "    zero_bool_mat = (current_mat == 0) # Convert the input matrix to a Boolean matrix where 0s are marked as True and all other values as False\n",
    "    zero_bool_mat_copy = zero_bool_mat.copy() # Create a copy of the Boolean matrix for later use\n",
    "\n",
    "    #Recording possible answer positions by marked_zero\n",
    "    marked_zero = [] # Create an empty list to store the positions of the marked zeros\n",
    "    while True in zero_bool_mat_copy: # While there are still True values in the copy of the Boolean matrix:\n",
    "        min_zero_row(zero_bool_mat_copy, marked_zero) # Call the min_zero_row function to find and mark the row and column containing the minimum number of zeros\n",
    "\n",
    "    #Recording the row and column positions separately.\n",
    "    marked_zero_row = [] # Create an empty list to store the row positions of the marked zeros\n",
    "    marked_zero_col = [] # Create an empty list to store the column positions of the marked zeros\n",
    "    for i in range(len(marked_zero)):\n",
    "        marked_zero_row.append(marked_zero[i][0]) # Append the row position of each marked zero to the marked_zero_row list\n",
    "        marked_zero_col.append(marked_zero[i][1]) # Append the column position of each marked zero to the marked_zero_col list\n",
    "\n",
    "    non_marked_row = list(set(range(current_mat.shape[0])) - set(marked_zero_row)) # Create a list of row positions that were not marked\n",
    "\n",
    "    marked_cols = [] # Create an empty list to store the column positions that are marked\n",
    "    check_switch = True\n",
    "    while check_switch:\n",
    "        check_switch = False\n",
    "        for i in range(len(non_marked_row)):\n",
    "            row_array = zero_bool_mat[non_marked_row[i], :]\n",
    "            for j in range(row_array.shape[0]):\n",
    "                if row_array[j] == True and j not in marked_cols:\n",
    "                    marked_cols.append(j)\n",
    "                    check_switch = True\n",
    "\n",
    "        for row_num, col_num in marked_zero:\n",
    "            if row_num not in non_marked_row and col_num in marked_cols:\n",
    "                non_marked_row.append(row_num)\n",
    "                check_switch = True\n",
    "\n",
    "    marked_rows = list(set(range(mat.shape[0])) - set(non_marked_row)) # Create a list of row positions that are marked\n",
    "\n",
    "    # Return the positions of the marked zeros, marked rows, and marked columns.\n",
    "    return marked_zero, marked_rows, marked_cols"
   ],
   "metadata": {
    "collapsed": false
   }
  },
  {
   "cell_type": "code",
   "execution_count": 40,
   "outputs": [],
   "source": [
    "def adjust_matrix(mat, cover_rows, cover_cols):\n",
    "    # Make a copy of the matrix to work with\n",
    "    curr_matrix = mat\n",
    "\n",
    "    # Collect all non-covered elements in a list\n",
    "    non_zero_element = []\n",
    "    for row in range(len(curr_matrix)):\n",
    "        if row not in cover_rows:\n",
    "            for i in range(len(curr_matrix[row])):\n",
    "                if i not in cover_cols:\n",
    "                    non_zero_element.append(curr_matrix[row][i])\n",
    "\n",
    "    # Find the minimum value among non-covered elements\n",
    "    min_num = min(non_zero_element)\n",
    "\n",
    "    # Subtract the minimum value from all non-covered elements\n",
    "    for row in range(len(curr_matrix)):\n",
    "        if row not in cover_rows:\n",
    "            for i in range(len(curr_matrix[row])):\n",
    "                if i not in cover_cols:\n",
    "                    curr_matrix[row, i] = curr_matrix[row, i] - min_num\n",
    "\n",
    "    # Add the minimum value to all covered elements\n",
    "    for row in range(len(cover_rows)):\n",
    "        for col in range(len(cover_cols)):\n",
    "            curr_matrix[cover_rows[row], cover_cols[col]] = curr_matrix[cover_rows[row], cover_cols[col]] + min_num\n",
    "\n",
    "    # Return the adjusted matrix\n",
    "    return curr_matrix"
   ],
   "metadata": {
    "collapsed": false
   }
  },
  {
   "cell_type": "code",
   "execution_count": 41,
   "outputs": [],
   "source": [
    "def hungarian_algorithm(mat):\n",
    "    ans_pos = 0  # Initialize the variable to store the answer position\n",
    "    dim = mat.shape[0]  # Get the dimensions of the matrix\n",
    "    curr_matrix = mat  # Create a copy of the input matrix\n",
    "\n",
    "    # Every column and every row subtract its internal minimum\n",
    "    for row_num in range(mat.shape[0]):\n",
    "        curr_matrix[row_num] = curr_matrix[row_num] - np.min(curr_matrix[row_num])\n",
    "    for col_num in range(mat.shape[1]):\n",
    "        curr_matrix[:,col_num] = curr_matrix[:,col_num] - np.min(curr_matrix[:,col_num])\n",
    "\n",
    "    # Count the number of zero entries in the matrix\n",
    "    zero_count = 0\n",
    "\n",
    "    # Loop until there are no more zero entries to mark\n",
    "    while zero_count < dim:\n",
    "        # Find the minimum number of lines required to cover all the zero entries\n",
    "        ans_pos, marked_rows, marked_cols = mark_matrix(curr_matrix)\n",
    "\n",
    "        # Count the number of zero entries that are not covered by the lines\n",
    "        zero_count = len(marked_rows) + len(marked_cols)\n",
    "\n",
    "        # If there are still zero entries that are not covered by the lines, adjust the matrix\n",
    "        if zero_count < dim:\n",
    "            curr_matrix = adjust_matrix(curr_matrix, marked_rows, marked_cols)\n",
    "\n",
    "    # Return the answer position\n",
    "    return ans_pos"
   ],
   "metadata": {
    "collapsed": false
   }
  },
  {
   "cell_type": "code",
   "execution_count": 42,
   "outputs": [],
   "source": [
    "def ans_calculation(mat, pos):\n",
    "    # Initialize total to zero and create a matrix of zeros with the same shape as 'mat'\n",
    "    total = 0\n",
    "    ans_mat = np.zeros((mat.shape[0], mat.shape[1]))\n",
    "\n",
    "    # For each position in 'pos', add the corresponding value in 'mat' to 'total' and copy the value to 'ans_mat'\n",
    "    for i in range(len(pos)):\n",
    "        total += mat[pos[i][0], pos[i][1]]\n",
    "        ans_mat[pos[i][0], pos[i][1]] = mat[pos[i][0], pos[i][1]]\n",
    "\n",
    "    # Return the sum and the matrix with only the positions specified in 'pos' containing values from 'mat'\n",
    "    return total, ans_mat"
   ],
   "metadata": {
    "collapsed": false
   }
  },
  {
   "cell_type": "code",
   "execution_count": 43,
   "outputs": [],
   "source": [
    "def main():\n",
    "    # The matrix for which you want to find the minimum sum\n",
    "    cost_matrix = np.array([[7, 6, 2, 9, 2],\n",
    "                            [6, 2, 1, 3, 9],\n",
    "                            [5, 6, 8, 9, 5],\n",
    "                            [6, 8, 5, 8, 6],\n",
    "                            [9, 5, 6, 4, 7]])\n",
    "\n",
    "    # Get the element position using Hungarian Algorithm\n",
    "    ans_pos = hungarian_algorithm(cost_matrix.copy())\n",
    "\n",
    "    # Get the minimum or maximum value and corresponding matrix using ans_calculation function\n",
    "    ans, ans_mat = ans_calculation(cost_matrix, ans_pos)\n",
    "\n",
    "    # Show the result\n",
    "    print(f\"Linear Problem Minimum Result: {ans:.0f}\\n{ans_mat}\")\n",
    "\n",
    "    # If you want to find the maximum value, use the code as follows:\n",
    "    # Use maximum value in the cost_matrix and subtract it from the profit_matrix to get cost_matrix\n",
    "    profit_matrix = np.array([[7, 6, 2, 9, 2],\n",
    "                              [6, 2, 1, 3, 9],\n",
    "                              [5, 6, 8, 9, 5],\n",
    "                              [6, 8, 5, 8, 6],\n",
    "                              [9, 5, 6, 4, 7]])\n",
    "    max_value = np.max(profit_matrix)\n",
    "    cost_matrix = max_value - profit_matrix\n",
    "    ans_pos = hungarian_algorithm(cost_matrix.copy())\n",
    "\n",
    "    # Get the minimum or maximum value and corresponding matrix using ans_calculation function\n",
    "    ans, ans_mat = ans_calculation(profit_matrix, ans_pos)\n",
    "\n",
    "    # Show the result\n",
    "    print(f\"Linear Problem Maximum Result: {ans:.0f}\\n{ans_mat}\")"
   ],
   "metadata": {
    "collapsed": false
   }
  },
  {
   "cell_type": "code",
   "execution_count": 44,
   "outputs": [
    {
     "name": "stdout",
     "output_type": "stream",
     "text": [
      "Linear Problem Minimum Result: 18\n",
      "[[0. 0. 0. 0. 2.]\n",
      " [0. 2. 0. 0. 0.]\n",
      " [5. 0. 0. 0. 0.]\n",
      " [0. 0. 5. 0. 0.]\n",
      " [0. 0. 0. 4. 0.]]\n",
      "Linear Problem Maximum Result: 43\n",
      "[[0. 0. 0. 9. 0.]\n",
      " [0. 0. 0. 0. 9.]\n",
      " [0. 0. 8. 0. 0.]\n",
      " [0. 8. 0. 0. 0.]\n",
      " [9. 0. 0. 0. 0.]]\n"
     ]
    }
   ],
   "source": [
    "# run the main script\n",
    "if __name__ == '__main__':\n",
    "    main()"
   ],
   "metadata": {
    "collapsed": false
   }
  },
  {
   "cell_type": "markdown",
   "source": [
    "#### AKS Primality Test Implementation in Python [7]"
   ],
   "metadata": {
    "collapsed": false
   }
  },
  {
   "cell_type": "markdown",
   "source": [
    "In this code I will be checking if a number is prime. This program demonstrates how the AKS algorithm works and doesn't implement the actual algorithm (This works only till n = 64)"
   ],
   "metadata": {
    "collapsed": false
   }
  },
  {
   "cell_type": "code",
   "execution_count": 45,
   "outputs": [],
   "source": [
    "# array used to store coefficients\n",
    "coef_array = [0] * 100;"
   ],
   "metadata": {
    "collapsed": false
   }
  },
  {
   "cell_type": "code",
   "execution_count": 46,
   "outputs": [],
   "source": [
    "# function to calculate the coefficients of (x - 1)^n - (x^n - 1) with the help of Pascal's triangle\n",
    "def coef_calc(n):\n",
    "    coef_array[0] = 1;\n",
    "    for i in range(n):\n",
    "        coef_array[1 + i] = 1;\n",
    "        for j in range(i, 0, -1):\n",
    "            coef_array[j] = coef_array[j - 1] - coef_array[j];\n",
    "        coef_array[0] = -coef_array[0];"
   ],
   "metadata": {
    "collapsed": false
   }
  },
  {
   "cell_type": "code",
   "execution_count": 47,
   "outputs": [],
   "source": [
    "# function to check whether the number is prime or not\n",
    "def isPrime(n):\n",
    "    # Calculating all the coefficients by the function coef and storing all the coefficients in c array\n",
    "    coef_calc(n);\n",
    "\n",
    "    # subtracting c[n] and adding c[0] by 1 as ( x - 1 )^n - ( x^n - 1), here we are subtracting c[n] by 1 and adding 1 in expression.\n",
    "    coef_array[0] = coef_array[0] + 1;\n",
    "    coef_array[n] = coef_array[n] - 1;\n",
    "\n",
    "    # checking all the coefficients whether they are divisible by n or not. if n is not prime then loop breaks and (i > 0).\n",
    "    i = n;\n",
    "    while i > -1 and coef_array[i] % n == 0:\n",
    "        i = i - 1;\n",
    "\n",
    "    # Return true if all coefficients are divisible by n.\n",
    "    return True if i < 0 else False;"
   ],
   "metadata": {
    "collapsed": false
   }
  },
  {
   "cell_type": "code",
   "execution_count": 48,
   "outputs": [
    {
     "name": "stdout",
     "output_type": "stream",
     "text": [
      "Prime\n"
     ]
    }
   ],
   "source": [
    "# Driver Code\n",
    "n = 31;\n",
    "if isPrime(n):\n",
    "    print(\"Prime\");\n",
    "else:\n",
    "    print(\"Not Prime\");"
   ],
   "metadata": {
    "collapsed": false
   }
  },
  {
   "cell_type": "markdown",
   "source": [
    "## Reductions"
   ],
   "metadata": {
    "collapsed": false
   }
  },
  {
   "cell_type": "markdown",
   "source": [
    "In this section I will be exploring the three main types of polynomial time reductions, Many-One Reductions, Truth-Table Reductions, and Turing Reductions.\n",
    "\n",
    "What are Polynomial-Time Reductions:\n",
    "- A polynomial time reduction is a way of solving a problem by using another problem.\n",
    "- It does this by checking if one problem has a hypothetical subroutine solving the second problem, if it does have this the first problem can be solved by reducing it to inputs for the second problem and calling the subroutine.\n",
    "- If the time required to convert the first problem to the second, and the number of times the subroutine is called are polynomial, this means the first problem is polynomial-time reducible to the second.\n",
    "- This proves that the both problems are the same difficulty to solve because whenever an effective algorithm exists for the second problem, one exists for the first one too.\n",
    "- This is also the same for the other way around, if no effective algorithm exists for the first, none exist for the second. [8]\n",
    "\n",
    "Many-One Reductions [8]:\n",
    "- The many-one reduction is a polynomial-time algorithm for converting inputs from one problem into inputs to another problem, so that the converted problem will have the same outputs as the original one.\n",
    "- If we take two problems, problem A and problem B, we can solve the instance x of A by doing the above conversion to give us the instance y of B, this gives y as the input to the algorithm for B and giving us an output.\n",
    "- This type of reduction is denoted as follows: <img src=\"img/many-one.PNG\" align=\"center\" width=\"150\"/>\n",
    "\n",
    "Truth-Table Reductions [8]:\n",
    "- The truth-table reduction is a polynomial-time algorithm used for converting inputs to a problem to a fixed number of inputs for another problem, so that the outputs of the first problem can be expressed as a function for the outputs of the second problem.\n",
    "- The function that maps the outputs for the second problem into the outputs of the first problem must be the same for all the inputs.\n",
    "- This type of reduction is denoted as follows: <img src=\"img/truth.PNG\" align=\"center\" width=\"80\"/>\n",
    "\n",
    "Turing Reductions [8]:\n",
    "- The Turing reduction is an algorithm that solves a problem using a polynomial number of calls to a subroutine for a second problem.\n",
    "- This reduction is also known as the Cook reduction which is named after Stephen Cook.\n",
    "- This type of reduction is denoted as follow: <img src=\"img/turing.PNG\" align=\"center\" width=\"80\"/>\n",
    "- The many-one reduction is related to this reduction but is more restricted."
   ],
   "metadata": {
    "collapsed": false
   }
  },
  {
   "cell_type": "markdown",
   "source": [
    "## P versus NP Problem"
   ],
   "metadata": {
    "collapsed": false
   }
  },
  {
   "cell_type": "markdown",
   "source": [
    "Explanation of P vs NP Problem\n",
    "- The P vs NP problem is one of the most famous problems within computer science that is yet to be solved.\n",
    "- It is an open problem and if someone if able to solve it there is a 1,000,000 dollar prize from the Clay Mathematics Institute.\n",
    "- These two categories of problems hold the majority of common problems in the complexity theory field.\n",
    "- The main problem with these is if a computer that validates a solution quickly for a difficult problem can also get the solution itself.\n",
    "- The solution to the P problems can be solved and validated quickly by computers.\n",
    "- While solutions to NP problems are fast to validate but extremely slow to solve.\n",
    "- A more formal way of describing theses problems is, P can be solved using the abstract model of deterministic Turing machines.\n",
    "- These problems take a polynomial amount of space known of polynomial-space or PSPACE.\n",
    "- While NP problems are solved using non-deterministic Turing machines.\n",
    "- These problems are in the complexity space non-deterministic polynomial space  or NPSPACE.\n",
    "- In the current status of research many believe that P probably doesn't equal NP.\n",
    "- This problem is extremely important for research into the further understanding of computational complexity.\n",
    "- With the idea of Quantum computers on the horizon we may see more from this problem with scientists believing that one day we may be able to reduce problems from NP to P. [9]"
   ],
   "metadata": {
    "collapsed": false
   }
  },
  {
   "cell_type": "markdown",
   "source": [
    "## References"
   ],
   "metadata": {
    "collapsed": false
   }
  },
  {
   "cell_type": "markdown",
   "source": [],
   "metadata": {
    "collapsed": false
   }
  },
  {
   "cell_type": "markdown",
   "source": [
    "***\n",
    "\n",
    "## End of Notebook"
   ],
   "metadata": {
    "collapsed": false
   }
  }
 ],
 "metadata": {
  "kernelspec": {
   "display_name": "Python 3",
   "language": "python",
   "name": "python3"
  },
  "language_info": {
   "codemirror_mode": {
    "name": "ipython",
    "version": 2
   },
   "file_extension": ".py",
   "mimetype": "text/x-python",
   "name": "python",
   "nbconvert_exporter": "python",
   "pygments_lexer": "ipython2",
   "version": "2.7.6"
  }
 },
 "nbformat": 4,
 "nbformat_minor": 0
}
